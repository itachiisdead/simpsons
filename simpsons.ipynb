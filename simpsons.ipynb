{
 "cells": [
  {
   "cell_type": "code",
   "execution_count": 2,
   "id": "e547cab8-446c-4c8d-80ba-56e9f81966b0",
   "metadata": {},
   "outputs": [],
   "source": [
    "import tensorflow as tf\n",
    "import os\n",
    "import pandas as pd\n",
    "import matplotlib.pyplot as plt\n",
    "from sklearn.model_selection import train_test_split\n",
    "import cv2"
   ]
  },
  {
   "cell_type": "code",
   "execution_count": 3,
   "id": "c874f973-d473-4c2a-bc26-884fddb9e4b3",
   "metadata": {},
   "outputs": [],
   "source": [
    "train_dir = \"C:/Users/lenovo/Downloads/ss/simpsons_dataset\"\n",
    "test_dir = \"C:/Users/lenovo/Downloads/ss/kaggle_simpson_testset\""
   ]
  },
  {
   "cell_type": "code",
   "execution_count": 4,
   "id": "eeea25d2-639d-495e-99d4-dabb0cf88364",
   "metadata": {},
   "outputs": [],
   "source": [
    "train_img = [os.path.join(train_dir, f) for f in os.listdir(train_dir)]\n",
    "test_img = [os.path.join(test_dir, f) for f in os.listdir(test_dir)]"
   ]
  },
  {
   "cell_type": "code",
   "execution_count": 5,
   "id": "1fde4de7-a1a2-44b7-b507-7d309aff0d8b",
   "metadata": {},
   "outputs": [],
   "source": [
    "df_train = pd.read_csv(\"C:/Users/lenovo/Downloads/ss/number_pic_char.csv\")"
   ]
  },
  {
   "cell_type": "code",
   "execution_count": 6,
   "id": "107dfe5f-229e-45ff-8bd7-ee3b0b16799f",
   "metadata": {},
   "outputs": [
    {
     "data": {
      "text/plain": [
       "47"
      ]
     },
     "execution_count": 6,
     "metadata": {},
     "output_type": "execute_result"
    }
   ],
   "source": [
    "len(df_train.name.unique())"
   ]
  },
  {
   "cell_type": "code",
   "execution_count": 7,
   "id": "9a5208fa-64dc-40a6-9993-69879d30977f",
   "metadata": {},
   "outputs": [],
   "source": [
    "train_datagen = tf.keras.preprocessing.image.ImageDataGenerator(\n",
    "      rescale=1./255,\n",
    "      rotation_range=25,\n",
    "      width_shift_range=0.1,\n",
    "      height_shift_range=0.1,\n",
    "      shear_range=0.2,\n",
    "      zoom_range=0.2,\n",
    "      horizontal_flip=True,\n",
    "      fill_mode='nearest',\n",
    "      validation_split = 0.2)"
   ]
  },
  {
   "cell_type": "code",
   "execution_count": 10,
   "id": "1ab5166f-5b17-40ca-b623-30565ff2543b",
   "metadata": {},
   "outputs": [
    {
     "name": "stdout",
     "output_type": "stream",
     "text": [
      "Found 33511 images belonging to 43 classes.\n"
     ]
    }
   ],
   "source": [
    "train_generator = train_datagen.flow_from_directory(train_dir,\n",
    "                                                    target_size=(80,80),\n",
    "                                                    batch_size=150,\n",
    "                                                    subset = 'training',\n",
    "                                                    class_mode='categorical',\n",
    "                                                    color_mode='rgb')"
   ]
  },
  {
   "cell_type": "code",
   "execution_count": 11,
   "id": "8ce70b8c-e51b-4d9c-a6ce-65213f8bd525",
   "metadata": {},
   "outputs": [],
   "source": [
    "val_datagen=tf.keras.preprocessing.image.ImageDataGenerator(rescale=1./255, validation_split = 0.2)"
   ]
  },
  {
   "cell_type": "code",
   "execution_count": 12,
   "id": "d69d0e1e-15c0-49b0-a575-bf7f09f14f74",
   "metadata": {},
   "outputs": [
    {
     "name": "stdout",
     "output_type": "stream",
     "text": [
      "Found 8355 images belonging to 43 classes.\n"
     ]
    }
   ],
   "source": [
    "val_generator = val_datagen.flow_from_directory(train_dir,\n",
    "                                                target_size=(80,80),\n",
    "                                                batch_size=150,\n",
    "                                                subset = 'validation',\n",
    "                                                class_mode='categorical',\n",
    "                                                color_mode='rgb')"
   ]
  },
  {
   "cell_type": "code",
   "execution_count": 13,
   "id": "9d15c6d6-9654-48c2-ab4a-b99e7acd25e9",
   "metadata": {},
   "outputs": [],
   "source": [
    "test_datagen = tf.keras.preprocessing.image.ImageDataGenerator(rescale=1./255)"
   ]
  },
  {
   "cell_type": "code",
   "execution_count": 14,
   "id": "1bbdeab4-1a7e-4131-8e76-2e410d8d9c6e",
   "metadata": {},
   "outputs": [
    {
     "name": "stdout",
     "output_type": "stream",
     "text": [
      "Found 990 images belonging to 1 classes.\n"
     ]
    }
   ],
   "source": [
    "test_generator = test_datagen.flow_from_directory(test_dir,\n",
    "                                                    target_size=(80,80),\n",
    "                                                    batch_size=32,\n",
    "                                                    class_mode='categorical',\n",
    "                                                    color_mode='rgb')"
   ]
  },
  {
   "cell_type": "code",
   "execution_count": 15,
   "id": "99c5369b-e129-4d91-89c5-235b4fff961c",
   "metadata": {},
   "outputs": [],
   "source": [
    "model = tf.keras.models.Sequential()\n",
    "model.add(tf.keras.layers.Conv2D(32, (3, 3), padding='same', input_shape=(80, 80, 3), activation=\"relu\"))\n",
    "model.add(tf.keras.layers.Conv2D(32, (3, 3), activation=\"relu\"))\n",
    "model.add(tf.keras.layers.MaxPooling2D(pool_size=(2, 2)))\n",
    "model.add(tf.keras.layers.Dropout(0.2))\n",
    "\n",
    "model.add(tf.keras.layers.Conv2D(64, (3, 3), padding='same', activation=\"relu\"))\n",
    "model.add(tf.keras.layers.Conv2D(64, (3, 3), activation=\"relu\"))\n",
    "model.add(tf.keras.layers.MaxPooling2D(pool_size=(2, 2)))\n",
    "model.add(tf.keras.layers.Dropout(0.2))\n",
    "\n",
    "model.add(tf.keras.layers.Conv2D(256, (3, 3), padding='same', activation=\"relu\")) \n",
    "model.add(tf.keras.layers.Conv2D(256, (3, 3), activation=\"relu\"))\n",
    "model.add(tf.keras.layers.MaxPooling2D(pool_size=(2, 2)))\n",
    "model.add(tf.keras.layers.Dropout(0.2))\n",
    "\n",
    "model.add(tf.keras.layers.Flatten())\n",
    "model.add(tf.keras.layers.Dense(1024, activation=\"relu\"))\n",
    "model.add(tf.keras.layers.Dropout(0.5))\n",
    "model.add(tf.keras.layers.Dense(43, activation='softmax'))"
   ]
  },
  {
   "cell_type": "code",
   "execution_count": 16,
   "id": "a7d79ed4-10bf-4fa4-add9-5d82e136d221",
   "metadata": {},
   "outputs": [
    {
     "name": "stdout",
     "output_type": "stream",
     "text": [
      "Model: \"sequential\"\n",
      "_________________________________________________________________\n",
      " Layer (type)                Output Shape              Param #   \n",
      "=================================================================\n",
      " conv2d (Conv2D)             (None, 80, 80, 32)        896       \n",
      "                                                                 \n",
      " conv2d_1 (Conv2D)           (None, 78, 78, 32)        9248      \n",
      "                                                                 \n",
      " max_pooling2d (MaxPooling2D  (None, 39, 39, 32)       0         \n",
      " )                                                               \n",
      "                                                                 \n",
      " dropout (Dropout)           (None, 39, 39, 32)        0         \n",
      "                                                                 \n",
      " conv2d_2 (Conv2D)           (None, 39, 39, 64)        18496     \n",
      "                                                                 \n",
      " conv2d_3 (Conv2D)           (None, 37, 37, 64)        36928     \n",
      "                                                                 \n",
      " max_pooling2d_1 (MaxPooling  (None, 18, 18, 64)       0         \n",
      " 2D)                                                             \n",
      "                                                                 \n",
      " dropout_1 (Dropout)         (None, 18, 18, 64)        0         \n",
      "                                                                 \n",
      " conv2d_4 (Conv2D)           (None, 18, 18, 256)       147712    \n",
      "                                                                 \n",
      " conv2d_5 (Conv2D)           (None, 16, 16, 256)       590080    \n",
      "                                                                 \n",
      " max_pooling2d_2 (MaxPooling  (None, 8, 8, 256)        0         \n",
      " 2D)                                                             \n",
      "                                                                 \n",
      " dropout_2 (Dropout)         (None, 8, 8, 256)         0         \n",
      "                                                                 \n",
      " flatten (Flatten)           (None, 16384)             0         \n",
      "                                                                 \n",
      " dense (Dense)               (None, 1024)              16778240  \n",
      "                                                                 \n",
      " dropout_3 (Dropout)         (None, 1024)              0         \n",
      "                                                                 \n",
      " dense_1 (Dense)             (None, 43)                44075     \n",
      "                                                                 \n",
      "=================================================================\n",
      "Total params: 17,625,675\n",
      "Trainable params: 17,625,675\n",
      "Non-trainable params: 0\n",
      "_________________________________________________________________\n"
     ]
    }
   ],
   "source": [
    "model.summary()"
   ]
  },
  {
   "cell_type": "code",
   "execution_count": 17,
   "id": "cf9f27d1-caa1-42ec-83a8-7e5d8c11960c",
   "metadata": {},
   "outputs": [],
   "source": [
    "model.compile(loss='categorical_crossentropy',optimizer=\"adam\",metrics=['accuracy'])"
   ]
  },
  {
   "cell_type": "code",
   "execution_count": 18,
   "id": "46a906d4-6cfa-4a0d-a76e-9ed6e9442fec",
   "metadata": {},
   "outputs": [],
   "source": [
    "callbacks = [\n",
    "tf.keras.callbacks.EarlyStopping(monitor = 'val_loss',\n",
    "    min_delta = 0.001,\n",
    "    mode=\"max\",\n",
    "    patience = 10,\n",
    "    verbose = 1,\n",
    "    restore_best_weights = True),\n",
    "    \n",
    "tf.keras.callbacks.ModelCheckpoint(\n",
    "    filepath='./model.keras',\n",
    "    save_weights_only=False,\n",
    "    monitor='val_accuracy',\n",
    "    mode='max',\n",
    "    save_best_only=True)]"
   ]
  },
  {
   "cell_type": "code",
   "execution_count": null,
   "id": "33d10a71-d567-40b4-a7db-52f8b03e55bf",
   "metadata": {},
   "outputs": [
    {
     "name": "stdout",
     "output_type": "stream",
     "text": [
      "Epoch 1/10\n",
      "224/224 [==============================] - 2225s 10s/step - loss: 2.3300 - accuracy: 0.4964 - val_loss: 2.2456 - val_accuracy: 0.5010\n",
      "Epoch 2/10\n",
      " 69/224 [========>.....................] - ETA: 24:35 - loss: 2.2648 - accuracy: 0.4981"
     ]
    }
   ],
   "source": [
    "history = model.fit(\n",
    "    train_generator,\n",
    "    epochs=10,\n",
    "    callbacks=callbacks,\n",
    "    validation_data=val_generator,\n",
    "    batch_size=300)"
   ]
  },
  {
   "cell_type": "code",
   "execution_count": null,
   "id": "cf6887cb-fa79-45d1-b2bd-d85bba7fffbe",
   "metadata": {},
   "outputs": [],
   "source": [
    "acc = history.history[\"accuracy\"]\n",
    "val_acc = history.history[\"val_accuracy\"]\n",
    "loss = history.history[\"loss\"]\n",
    "val_loss = history.history[\"val_loss\"]\n",
    "\n",
    "epochs = range(1, len(acc) + 1)\n",
    "plt.plot(epochs, acc, \"bo\", label=\"Tranning_acc\", color = \"red\")\n",
    "plt.plot(epochs, val_acc, \"b\", label=\"validation_acc\", color = \"blue\")\n",
    "plt.legend()\n",
    "plt.show()"
   ]
  },
  {
   "cell_type": "code",
   "execution_count": null,
   "id": "e7f75126-3aca-4821-8c64-5fa7a2e766a2",
   "metadata": {},
   "outputs": [],
   "source": [
    "score = model.evaluate(val_generator,batch_size=32)\n",
    "print(\"Accuracy: {:.2f}%\".format(score[1] * 100)) \n",
    "print(\"Loss: \",score[0])"
   ]
  },
  {
   "cell_type": "code",
   "execution_count": null,
   "id": "613c8c06-0c4b-421a-a5cc-53ebfaf8a1bf",
   "metadata": {},
   "outputs": [],
   "source": [
    "from tensorflow.keras.models import load_model\n",
    "from tensorflow.keras.preprocessing import image\n",
    "import numpy as np"
   ]
  },
  {
   "cell_type": "code",
   "execution_count": null,
   "id": "5aa7c47c-f26e-4574-9ac3-02a1956411e1",
   "metadata": {},
   "outputs": [],
   "source": [
    "img_path = \"/kaggle/input/the-simpsons-characters-dataset/kaggle_simpson_testset/kaggle_simpson_testset/bart_simpson_28.jpg\"\n",
    "img = image.load_img(img_path, target_size=(64, 64, 3))\n",
    "plt.imshow(img)\n",
    "plt.show()"
   ]
  }
 ],
 "metadata": {
  "kernelspec": {
   "display_name": "Python 3 (ipykernel)",
   "language": "python",
   "name": "python3"
  },
  "language_info": {
   "codemirror_mode": {
    "name": "ipython",
    "version": 3
   },
   "file_extension": ".py",
   "mimetype": "text/x-python",
   "name": "python",
   "nbconvert_exporter": "python",
   "pygments_lexer": "ipython3",
   "version": "3.11.7"
  }
 },
 "nbformat": 4,
 "nbformat_minor": 5
}
